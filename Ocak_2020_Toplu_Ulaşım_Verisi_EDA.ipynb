{
  "nbformat": 4,
  "nbformat_minor": 0,
  "metadata": {
    "colab": {
      "name": "Ocak 2020 Toplu Ulaşım Verisi  - EDA.ipynb",
      "provenance": [],
      "collapsed_sections": []
    },
    "kernelspec": {
      "name": "python3",
      "display_name": "Python 3"
    },
    "language_info": {
      "name": "python"
    }
  },
  "cells": [
    {
      "cell_type": "markdown",
      "metadata": {
        "id": "gEyGcKBozj-8"
      },
      "source": [
        "# EDA FOR Hourly Transportation Report By İstanbul Data Portal - January 2020"
      ]
    },
    {
      "cell_type": "markdown",
      "metadata": {
        "id": "SfLGbppH1b0D"
      },
      "source": [
        ""
      ]
    },
    {
      "cell_type": "markdown",
      "metadata": {
        "id": "AJnoXUfQz-rn"
      },
      "source": [
        "[DATA](https://data.ibb.gov.tr/dataset/saatlik-toplu-ulasim-veri-seti/resource/511c5034-0a1c-4c77-9831-157f30e62aee)"
      ]
    },
    {
      "cell_type": "code",
      "metadata": {
        "colab": {
          "base_uri": "https://localhost:8080/"
        },
        "id": "HrnMTkfFif2y",
        "outputId": "8793a9d9-23aa-4535-c7c4-e3b23b415b36"
      },
      "source": [
        "from google.colab import drive\n",
        "drive.mount('/gdrive')\n",
        "%cd /gdrive"
      ],
      "execution_count": 1,
      "outputs": [
        {
          "output_type": "stream",
          "text": [
            "Mounted at /gdrive\n",
            "/gdrive\n"
          ],
          "name": "stdout"
        }
      ]
    },
    {
      "cell_type": "code",
      "metadata": {
        "id": "trbXuRQAjtdi"
      },
      "source": [
        "import numpy as np\n",
        "import pandas as pd\n",
        "import matplotlib.pyplot as plt\n",
        "\n",
        "%matplotlib inline"
      ],
      "execution_count": 3,
      "outputs": []
    },
    {
      "cell_type": "code",
      "metadata": {
        "colab": {
          "base_uri": "https://localhost:8080/",
          "height": 204
        },
        "id": "V7n41fsTjxz7",
        "outputId": "341921f1-629b-41ba-9aa0-40ced15f55ef"
      },
      "source": [
        "df = pd.read_csv('/gdrive/My Drive/1/hourly_transportation_202001.csv',parse_dates=['DATE_TIME'])\n",
        "df.head()"
      ],
      "execution_count": 4,
      "outputs": [
        {
          "output_type": "execute_result",
          "data": {
            "text/html": [
              "<div>\n",
              "<style scoped>\n",
              "    .dataframe tbody tr th:only-of-type {\n",
              "        vertical-align: middle;\n",
              "    }\n",
              "\n",
              "    .dataframe tbody tr th {\n",
              "        vertical-align: top;\n",
              "    }\n",
              "\n",
              "    .dataframe thead th {\n",
              "        text-align: right;\n",
              "    }\n",
              "</style>\n",
              "<table border=\"1\" class=\"dataframe\">\n",
              "  <thead>\n",
              "    <tr style=\"text-align: right;\">\n",
              "      <th></th>\n",
              "      <th>DATE_TIME</th>\n",
              "      <th>TRANSPORT_TYPE_ID</th>\n",
              "      <th>TRANSPORT_TYPE_DESC</th>\n",
              "      <th>LINE</th>\n",
              "      <th>TRANSFER_TYPE_ID</th>\n",
              "      <th>TRANSFER_TYPE</th>\n",
              "      <th>NUMBER_OF_PASSENGER</th>\n",
              "      <th>NUMBER_OF_PASSAGE</th>\n",
              "    </tr>\n",
              "  </thead>\n",
              "  <tbody>\n",
              "    <tr>\n",
              "      <th>0</th>\n",
              "      <td>2020-01-29 12:00:00</td>\n",
              "      <td>2</td>\n",
              "      <td>RAY</td>\n",
              "      <td>KADIKÖY-MODA</td>\n",
              "      <td>2</td>\n",
              "      <td>AKTARMA</td>\n",
              "      <td>59</td>\n",
              "      <td>59</td>\n",
              "    </tr>\n",
              "    <tr>\n",
              "      <th>1</th>\n",
              "      <td>2020-01-29 10:00:00</td>\n",
              "      <td>2</td>\n",
              "      <td>RAY</td>\n",
              "      <td>TELEFERİK MAÇKA - TAŞKIŞLA</td>\n",
              "      <td>2</td>\n",
              "      <td>NORMAL</td>\n",
              "      <td>13</td>\n",
              "      <td>15</td>\n",
              "    </tr>\n",
              "    <tr>\n",
              "      <th>2</th>\n",
              "      <td>2020-01-04 18:00:00</td>\n",
              "      <td>2</td>\n",
              "      <td>RAY</td>\n",
              "      <td>İETT NOSTALJİK TRAMVAY</td>\n",
              "      <td>2</td>\n",
              "      <td>AKTARMA</td>\n",
              "      <td>21</td>\n",
              "      <td>21</td>\n",
              "    </tr>\n",
              "    <tr>\n",
              "      <th>3</th>\n",
              "      <td>2020-01-19 23:00:00</td>\n",
              "      <td>1</td>\n",
              "      <td>KARAYOLU</td>\n",
              "      <td>ÖHO</td>\n",
              "      <td>2</td>\n",
              "      <td>AKTARMA</td>\n",
              "      <td>2874</td>\n",
              "      <td>2922</td>\n",
              "    </tr>\n",
              "    <tr>\n",
              "      <th>4</th>\n",
              "      <td>2020-01-04 14:00:00</td>\n",
              "      <td>1</td>\n",
              "      <td>KARAYOLU</td>\n",
              "      <td>İETT</td>\n",
              "      <td>2</td>\n",
              "      <td>AKTARMA</td>\n",
              "      <td>3584</td>\n",
              "      <td>3608</td>\n",
              "    </tr>\n",
              "  </tbody>\n",
              "</table>\n",
              "</div>"
            ],
            "text/plain": [
              "            DATE_TIME  ...  NUMBER_OF_PASSAGE\n",
              "0 2020-01-29 12:00:00  ...                 59\n",
              "1 2020-01-29 10:00:00  ...                 15\n",
              "2 2020-01-04 18:00:00  ...                 21\n",
              "3 2020-01-19 23:00:00  ...               2922\n",
              "4 2020-01-04 14:00:00  ...               3608\n",
              "\n",
              "[5 rows x 8 columns]"
            ]
          },
          "metadata": {
            "tags": []
          },
          "execution_count": 4
        }
      ]
    },
    {
      "cell_type": "code",
      "metadata": {
        "colab": {
          "base_uri": "https://localhost:8080/"
        },
        "id": "fj-Y5FsxrSeG",
        "outputId": "98191dc5-853c-478b-c066-f41172734313"
      },
      "source": [
        "df.shape"
      ],
      "execution_count": 5,
      "outputs": [
        {
          "output_type": "execute_result",
          "data": {
            "text/plain": [
              "(23162, 8)"
            ]
          },
          "metadata": {
            "tags": []
          },
          "execution_count": 5
        }
      ]
    },
    {
      "cell_type": "code",
      "metadata": {
        "colab": {
          "base_uri": "https://localhost:8080/"
        },
        "id": "3x9dZIDrrVkA",
        "outputId": "f2929a57-eb8c-4837-be20-4deca0f0432d"
      },
      "source": [
        "df.columns"
      ],
      "execution_count": 6,
      "outputs": [
        {
          "output_type": "execute_result",
          "data": {
            "text/plain": [
              "Index(['DATE_TIME', 'TRANSPORT_TYPE_ID', 'TRANSPORT_TYPE_DESC', 'LINE',\n",
              "       'TRANSFER_TYPE_ID', 'TRANSFER_TYPE', 'NUMBER_OF_PASSENGER',\n",
              "       'NUMBER_OF_PASSAGE'],\n",
              "      dtype='object')"
            ]
          },
          "metadata": {
            "tags": []
          },
          "execution_count": 6
        }
      ]
    },
    {
      "cell_type": "code",
      "metadata": {
        "colab": {
          "base_uri": "https://localhost:8080/"
        },
        "id": "1BWbS4jWrXif",
        "outputId": "77131760-646e-456a-d6b2-5a8ce3889260"
      },
      "source": [
        "df.info()"
      ],
      "execution_count": 7,
      "outputs": [
        {
          "output_type": "stream",
          "text": [
            "<class 'pandas.core.frame.DataFrame'>\n",
            "RangeIndex: 23162 entries, 0 to 23161\n",
            "Data columns (total 8 columns):\n",
            " #   Column               Non-Null Count  Dtype         \n",
            "---  ------               --------------  -----         \n",
            " 0   DATE_TIME            23162 non-null  datetime64[ns]\n",
            " 1   TRANSPORT_TYPE_ID    23162 non-null  int64         \n",
            " 2   TRANSPORT_TYPE_DESC  23162 non-null  object        \n",
            " 3   LINE                 23162 non-null  object        \n",
            " 4   TRANSFER_TYPE_ID     23162 non-null  int64         \n",
            " 5   TRANSFER_TYPE        23162 non-null  object        \n",
            " 6   NUMBER_OF_PASSENGER  23162 non-null  int64         \n",
            " 7   NUMBER_OF_PASSAGE    23162 non-null  int64         \n",
            "dtypes: datetime64[ns](1), int64(4), object(3)\n",
            "memory usage: 1.4+ MB\n"
          ],
          "name": "stdout"
        }
      ]
    },
    {
      "cell_type": "code",
      "metadata": {
        "colab": {
          "base_uri": "https://localhost:8080/",
          "height": 297
        },
        "id": "HlQ917QTrdMn",
        "outputId": "40ea94a8-9627-41de-8071-37f468e41688"
      },
      "source": [
        "df.describe()"
      ],
      "execution_count": 8,
      "outputs": [
        {
          "output_type": "execute_result",
          "data": {
            "text/html": [
              "<div>\n",
              "<style scoped>\n",
              "    .dataframe tbody tr th:only-of-type {\n",
              "        vertical-align: middle;\n",
              "    }\n",
              "\n",
              "    .dataframe tbody tr th {\n",
              "        vertical-align: top;\n",
              "    }\n",
              "\n",
              "    .dataframe thead th {\n",
              "        text-align: right;\n",
              "    }\n",
              "</style>\n",
              "<table border=\"1\" class=\"dataframe\">\n",
              "  <thead>\n",
              "    <tr style=\"text-align: right;\">\n",
              "      <th></th>\n",
              "      <th>TRANSPORT_TYPE_ID</th>\n",
              "      <th>TRANSFER_TYPE_ID</th>\n",
              "      <th>NUMBER_OF_PASSENGER</th>\n",
              "      <th>NUMBER_OF_PASSAGE</th>\n",
              "    </tr>\n",
              "  </thead>\n",
              "  <tbody>\n",
              "    <tr>\n",
              "      <th>count</th>\n",
              "      <td>23162.000000</td>\n",
              "      <td>23162.0</td>\n",
              "      <td>23162.000000</td>\n",
              "      <td>23162.000000</td>\n",
              "    </tr>\n",
              "    <tr>\n",
              "      <th>mean</th>\n",
              "      <td>1.960107</td>\n",
              "      <td>2.0</td>\n",
              "      <td>7875.113332</td>\n",
              "      <td>8489.401261</td>\n",
              "    </tr>\n",
              "    <tr>\n",
              "      <th>std</th>\n",
              "      <td>0.521840</td>\n",
              "      <td>0.0</td>\n",
              "      <td>19154.339731</td>\n",
              "      <td>21023.525076</td>\n",
              "    </tr>\n",
              "    <tr>\n",
              "      <th>min</th>\n",
              "      <td>1.000000</td>\n",
              "      <td>2.0</td>\n",
              "      <td>1.000000</td>\n",
              "      <td>1.000000</td>\n",
              "    </tr>\n",
              "    <tr>\n",
              "      <th>25%</th>\n",
              "      <td>2.000000</td>\n",
              "      <td>2.0</td>\n",
              "      <td>150.000000</td>\n",
              "      <td>166.000000</td>\n",
              "    </tr>\n",
              "    <tr>\n",
              "      <th>50%</th>\n",
              "      <td>2.000000</td>\n",
              "      <td>2.0</td>\n",
              "      <td>1175.000000</td>\n",
              "      <td>1222.500000</td>\n",
              "    </tr>\n",
              "    <tr>\n",
              "      <th>75%</th>\n",
              "      <td>2.000000</td>\n",
              "      <td>2.0</td>\n",
              "      <td>6313.000000</td>\n",
              "      <td>6617.000000</td>\n",
              "    </tr>\n",
              "    <tr>\n",
              "      <th>max</th>\n",
              "      <td>3.000000</td>\n",
              "      <td>2.0</td>\n",
              "      <td>191760.000000</td>\n",
              "      <td>205449.000000</td>\n",
              "    </tr>\n",
              "  </tbody>\n",
              "</table>\n",
              "</div>"
            ],
            "text/plain": [
              "       TRANSPORT_TYPE_ID  ...  NUMBER_OF_PASSAGE\n",
              "count       23162.000000  ...       23162.000000\n",
              "mean            1.960107  ...        8489.401261\n",
              "std             0.521840  ...       21023.525076\n",
              "min             1.000000  ...           1.000000\n",
              "25%             2.000000  ...         166.000000\n",
              "50%             2.000000  ...        1222.500000\n",
              "75%             2.000000  ...        6617.000000\n",
              "max             3.000000  ...      205449.000000\n",
              "\n",
              "[8 rows x 4 columns]"
            ]
          },
          "metadata": {
            "tags": []
          },
          "execution_count": 8
        }
      ]
    },
    {
      "cell_type": "markdown",
      "metadata": {
        "id": "b-8rhGfGyEma"
      },
      "source": [
        "Most crowded transport."
      ]
    },
    {
      "cell_type": "code",
      "metadata": {
        "colab": {
          "base_uri": "https://localhost:8080/",
          "height": 359
        },
        "id": "WrlH_JRRro6e",
        "outputId": "d37fe531-43e5-404a-8801-2215ebf850df"
      },
      "source": [
        "df.sort_values(\"NUMBER_OF_PASSENGER\", ascending = False).head(10)"
      ],
      "execution_count": 9,
      "outputs": [
        {
          "output_type": "execute_result",
          "data": {
            "text/html": [
              "<div>\n",
              "<style scoped>\n",
              "    .dataframe tbody tr th:only-of-type {\n",
              "        vertical-align: middle;\n",
              "    }\n",
              "\n",
              "    .dataframe tbody tr th {\n",
              "        vertical-align: top;\n",
              "    }\n",
              "\n",
              "    .dataframe thead th {\n",
              "        text-align: right;\n",
              "    }\n",
              "</style>\n",
              "<table border=\"1\" class=\"dataframe\">\n",
              "  <thead>\n",
              "    <tr style=\"text-align: right;\">\n",
              "      <th></th>\n",
              "      <th>DATE_TIME</th>\n",
              "      <th>TRANSPORT_TYPE_ID</th>\n",
              "      <th>TRANSPORT_TYPE_DESC</th>\n",
              "      <th>LINE</th>\n",
              "      <th>TRANSFER_TYPE_ID</th>\n",
              "      <th>TRANSFER_TYPE</th>\n",
              "      <th>NUMBER_OF_PASSENGER</th>\n",
              "      <th>NUMBER_OF_PASSAGE</th>\n",
              "    </tr>\n",
              "  </thead>\n",
              "  <tbody>\n",
              "    <tr>\n",
              "      <th>13920</th>\n",
              "      <td>2020-01-02 08:00:00</td>\n",
              "      <td>1</td>\n",
              "      <td>KARAYOLU</td>\n",
              "      <td>ÖHO</td>\n",
              "      <td>2</td>\n",
              "      <td>NORMAL</td>\n",
              "      <td>191760</td>\n",
              "      <td>205449</td>\n",
              "    </tr>\n",
              "    <tr>\n",
              "      <th>8033</th>\n",
              "      <td>2020-01-10 08:00:00</td>\n",
              "      <td>1</td>\n",
              "      <td>KARAYOLU</td>\n",
              "      <td>ÖHO</td>\n",
              "      <td>2</td>\n",
              "      <td>NORMAL</td>\n",
              "      <td>188031</td>\n",
              "      <td>201595</td>\n",
              "    </tr>\n",
              "    <tr>\n",
              "      <th>23148</th>\n",
              "      <td>2020-01-03 08:00:00</td>\n",
              "      <td>1</td>\n",
              "      <td>KARAYOLU</td>\n",
              "      <td>ÖHO</td>\n",
              "      <td>2</td>\n",
              "      <td>NORMAL</td>\n",
              "      <td>187703</td>\n",
              "      <td>201104</td>\n",
              "    </tr>\n",
              "    <tr>\n",
              "      <th>21436</th>\n",
              "      <td>2020-01-02 07:00:00</td>\n",
              "      <td>1</td>\n",
              "      <td>KARAYOLU</td>\n",
              "      <td>ÖHO</td>\n",
              "      <td>2</td>\n",
              "      <td>NORMAL</td>\n",
              "      <td>187463</td>\n",
              "      <td>201114</td>\n",
              "    </tr>\n",
              "    <tr>\n",
              "      <th>6262</th>\n",
              "      <td>2020-01-09 08:00:00</td>\n",
              "      <td>1</td>\n",
              "      <td>KARAYOLU</td>\n",
              "      <td>ÖHO</td>\n",
              "      <td>2</td>\n",
              "      <td>NORMAL</td>\n",
              "      <td>187426</td>\n",
              "      <td>200290</td>\n",
              "    </tr>\n",
              "    <tr>\n",
              "      <th>21576</th>\n",
              "      <td>2020-01-13 08:00:00</td>\n",
              "      <td>1</td>\n",
              "      <td>KARAYOLU</td>\n",
              "      <td>ÖHO</td>\n",
              "      <td>2</td>\n",
              "      <td>NORMAL</td>\n",
              "      <td>185397</td>\n",
              "      <td>199022</td>\n",
              "    </tr>\n",
              "    <tr>\n",
              "      <th>17122</th>\n",
              "      <td>2020-01-13 07:00:00</td>\n",
              "      <td>1</td>\n",
              "      <td>KARAYOLU</td>\n",
              "      <td>ÖHO</td>\n",
              "      <td>2</td>\n",
              "      <td>NORMAL</td>\n",
              "      <td>183998</td>\n",
              "      <td>197415</td>\n",
              "    </tr>\n",
              "    <tr>\n",
              "      <th>3292</th>\n",
              "      <td>2020-01-09 07:00:00</td>\n",
              "      <td>1</td>\n",
              "      <td>KARAYOLU</td>\n",
              "      <td>ÖHO</td>\n",
              "      <td>2</td>\n",
              "      <td>NORMAL</td>\n",
              "      <td>183637</td>\n",
              "      <td>196874</td>\n",
              "    </tr>\n",
              "    <tr>\n",
              "      <th>944</th>\n",
              "      <td>2020-01-14 08:00:00</td>\n",
              "      <td>1</td>\n",
              "      <td>KARAYOLU</td>\n",
              "      <td>ÖHO</td>\n",
              "      <td>2</td>\n",
              "      <td>NORMAL</td>\n",
              "      <td>183582</td>\n",
              "      <td>197013</td>\n",
              "    </tr>\n",
              "    <tr>\n",
              "      <th>1105</th>\n",
              "      <td>2020-01-03 07:00:00</td>\n",
              "      <td>1</td>\n",
              "      <td>KARAYOLU</td>\n",
              "      <td>ÖHO</td>\n",
              "      <td>2</td>\n",
              "      <td>NORMAL</td>\n",
              "      <td>183057</td>\n",
              "      <td>196593</td>\n",
              "    </tr>\n",
              "  </tbody>\n",
              "</table>\n",
              "</div>"
            ],
            "text/plain": [
              "                DATE_TIME  ...  NUMBER_OF_PASSAGE\n",
              "13920 2020-01-02 08:00:00  ...             205449\n",
              "8033  2020-01-10 08:00:00  ...             201595\n",
              "23148 2020-01-03 08:00:00  ...             201104\n",
              "21436 2020-01-02 07:00:00  ...             201114\n",
              "6262  2020-01-09 08:00:00  ...             200290\n",
              "21576 2020-01-13 08:00:00  ...             199022\n",
              "17122 2020-01-13 07:00:00  ...             197415\n",
              "3292  2020-01-09 07:00:00  ...             196874\n",
              "944   2020-01-14 08:00:00  ...             197013\n",
              "1105  2020-01-03 07:00:00  ...             196593\n",
              "\n",
              "[10 rows x 8 columns]"
            ]
          },
          "metadata": {
            "tags": []
          },
          "execution_count": 9
        }
      ]
    },
    {
      "cell_type": "markdown",
      "metadata": {
        "id": "-ENKoXFPtJrN"
      },
      "source": [
        "Marmaray line's most busy times."
      ]
    },
    {
      "cell_type": "code",
      "metadata": {
        "colab": {
          "base_uri": "https://localhost:8080/",
          "height": 359
        },
        "id": "apbOs32CbxdZ",
        "outputId": "54c030f5-4a39-4f54-8a51-2d337e3246bb"
      },
      "source": [
        "a = df[\"LINE\"].isin([\"MARMARAY\"])\n",
        "df[a].sort_values(\"NUMBER_OF_PASSENGER\", ascending=False).head(10)"
      ],
      "execution_count": 15,
      "outputs": [
        {
          "output_type": "execute_result",
          "data": {
            "text/html": [
              "<div>\n",
              "<style scoped>\n",
              "    .dataframe tbody tr th:only-of-type {\n",
              "        vertical-align: middle;\n",
              "    }\n",
              "\n",
              "    .dataframe tbody tr th {\n",
              "        vertical-align: top;\n",
              "    }\n",
              "\n",
              "    .dataframe thead th {\n",
              "        text-align: right;\n",
              "    }\n",
              "</style>\n",
              "<table border=\"1\" class=\"dataframe\">\n",
              "  <thead>\n",
              "    <tr style=\"text-align: right;\">\n",
              "      <th></th>\n",
              "      <th>DATE_TIME</th>\n",
              "      <th>TRANSPORT_TYPE_ID</th>\n",
              "      <th>TRANSPORT_TYPE_DESC</th>\n",
              "      <th>LINE</th>\n",
              "      <th>TRANSFER_TYPE_ID</th>\n",
              "      <th>TRANSFER_TYPE</th>\n",
              "      <th>NUMBER_OF_PASSENGER</th>\n",
              "      <th>NUMBER_OF_PASSAGE</th>\n",
              "    </tr>\n",
              "  </thead>\n",
              "  <tbody>\n",
              "    <tr>\n",
              "      <th>12091</th>\n",
              "      <td>2020-01-10 18:00:00</td>\n",
              "      <td>2</td>\n",
              "      <td>RAY</td>\n",
              "      <td>MARMARAY</td>\n",
              "      <td>2</td>\n",
              "      <td>NORMAL</td>\n",
              "      <td>48578</td>\n",
              "      <td>50595</td>\n",
              "    </tr>\n",
              "    <tr>\n",
              "      <th>5791</th>\n",
              "      <td>2020-01-24 18:00:00</td>\n",
              "      <td>2</td>\n",
              "      <td>RAY</td>\n",
              "      <td>MARMARAY</td>\n",
              "      <td>2</td>\n",
              "      <td>NORMAL</td>\n",
              "      <td>48107</td>\n",
              "      <td>50813</td>\n",
              "    </tr>\n",
              "    <tr>\n",
              "      <th>10415</th>\n",
              "      <td>2020-01-29 18:00:00</td>\n",
              "      <td>2</td>\n",
              "      <td>RAY</td>\n",
              "      <td>MARMARAY</td>\n",
              "      <td>2</td>\n",
              "      <td>NORMAL</td>\n",
              "      <td>47474</td>\n",
              "      <td>49939</td>\n",
              "    </tr>\n",
              "    <tr>\n",
              "      <th>16447</th>\n",
              "      <td>2020-01-31 18:00:00</td>\n",
              "      <td>2</td>\n",
              "      <td>RAY</td>\n",
              "      <td>MARMARAY</td>\n",
              "      <td>2</td>\n",
              "      <td>NORMAL</td>\n",
              "      <td>47445</td>\n",
              "      <td>49969</td>\n",
              "    </tr>\n",
              "    <tr>\n",
              "      <th>19383</th>\n",
              "      <td>2020-01-17 18:00:00</td>\n",
              "      <td>2</td>\n",
              "      <td>RAY</td>\n",
              "      <td>MARMARAY</td>\n",
              "      <td>2</td>\n",
              "      <td>NORMAL</td>\n",
              "      <td>47121</td>\n",
              "      <td>48872</td>\n",
              "    </tr>\n",
              "    <tr>\n",
              "      <th>9402</th>\n",
              "      <td>2020-01-14 18:00:00</td>\n",
              "      <td>2</td>\n",
              "      <td>RAY</td>\n",
              "      <td>MARMARAY</td>\n",
              "      <td>2</td>\n",
              "      <td>NORMAL</td>\n",
              "      <td>47035</td>\n",
              "      <td>48434</td>\n",
              "    </tr>\n",
              "    <tr>\n",
              "      <th>20770</th>\n",
              "      <td>2020-01-22 18:00:00</td>\n",
              "      <td>2</td>\n",
              "      <td>RAY</td>\n",
              "      <td>MARMARAY</td>\n",
              "      <td>2</td>\n",
              "      <td>NORMAL</td>\n",
              "      <td>46748</td>\n",
              "      <td>49078</td>\n",
              "    </tr>\n",
              "    <tr>\n",
              "      <th>12237</th>\n",
              "      <td>2020-01-15 18:00:00</td>\n",
              "      <td>2</td>\n",
              "      <td>RAY</td>\n",
              "      <td>MARMARAY</td>\n",
              "      <td>2</td>\n",
              "      <td>NORMAL</td>\n",
              "      <td>46386</td>\n",
              "      <td>47924</td>\n",
              "    </tr>\n",
              "    <tr>\n",
              "      <th>11914</th>\n",
              "      <td>2020-01-03 18:00:00</td>\n",
              "      <td>2</td>\n",
              "      <td>RAY</td>\n",
              "      <td>MARMARAY</td>\n",
              "      <td>2</td>\n",
              "      <td>NORMAL</td>\n",
              "      <td>46358</td>\n",
              "      <td>48229</td>\n",
              "    </tr>\n",
              "    <tr>\n",
              "      <th>8074</th>\n",
              "      <td>2020-01-21 18:00:00</td>\n",
              "      <td>2</td>\n",
              "      <td>RAY</td>\n",
              "      <td>MARMARAY</td>\n",
              "      <td>2</td>\n",
              "      <td>NORMAL</td>\n",
              "      <td>44602</td>\n",
              "      <td>46526</td>\n",
              "    </tr>\n",
              "  </tbody>\n",
              "</table>\n",
              "</div>"
            ],
            "text/plain": [
              "                DATE_TIME  ...  NUMBER_OF_PASSAGE\n",
              "12091 2020-01-10 18:00:00  ...              50595\n",
              "5791  2020-01-24 18:00:00  ...              50813\n",
              "10415 2020-01-29 18:00:00  ...              49939\n",
              "16447 2020-01-31 18:00:00  ...              49969\n",
              "19383 2020-01-17 18:00:00  ...              48872\n",
              "9402  2020-01-14 18:00:00  ...              48434\n",
              "20770 2020-01-22 18:00:00  ...              49078\n",
              "12237 2020-01-15 18:00:00  ...              47924\n",
              "11914 2020-01-03 18:00:00  ...              48229\n",
              "8074  2020-01-21 18:00:00  ...              46526\n",
              "\n",
              "[10 rows x 8 columns]"
            ]
          },
          "metadata": {
            "tags": []
          },
          "execution_count": 15
        }
      ]
    },
    {
      "cell_type": "markdown",
      "metadata": {
        "id": "YpW6GmJ3yNyQ"
      },
      "source": [
        "Ray means rail. It shows first 10 hourly report for ray."
      ]
    },
    {
      "cell_type": "code",
      "metadata": {
        "colab": {
          "base_uri": "https://localhost:8080/",
          "height": 359
        },
        "id": "M3g_hso_r6gV",
        "outputId": "12f3277f-0773-4fda-e72c-123f75e11f73"
      },
      "source": [
        "ray = df[\"TRANSPORT_TYPE_DESC\"].isin([\"RAY\"])\n",
        "df[ray].head(10)"
      ],
      "execution_count": null,
      "outputs": [
        {
          "output_type": "execute_result",
          "data": {
            "text/html": [
              "<div>\n",
              "<style scoped>\n",
              "    .dataframe tbody tr th:only-of-type {\n",
              "        vertical-align: middle;\n",
              "    }\n",
              "\n",
              "    .dataframe tbody tr th {\n",
              "        vertical-align: top;\n",
              "    }\n",
              "\n",
              "    .dataframe thead th {\n",
              "        text-align: right;\n",
              "    }\n",
              "</style>\n",
              "<table border=\"1\" class=\"dataframe\">\n",
              "  <thead>\n",
              "    <tr style=\"text-align: right;\">\n",
              "      <th></th>\n",
              "      <th>DATE_TIME</th>\n",
              "      <th>TRANSPORT_TYPE_ID</th>\n",
              "      <th>TRANSPORT_TYPE_DESC</th>\n",
              "      <th>LINE</th>\n",
              "      <th>TRANSFER_TYPE_ID</th>\n",
              "      <th>TRANSFER_TYPE</th>\n",
              "      <th>NUMBER_OF_PASSENGER</th>\n",
              "      <th>NUMBER_OF_PASSAGE</th>\n",
              "    </tr>\n",
              "  </thead>\n",
              "  <tbody>\n",
              "    <tr>\n",
              "      <th>0</th>\n",
              "      <td>2020-01-29 12:00:00</td>\n",
              "      <td>2</td>\n",
              "      <td>RAY</td>\n",
              "      <td>KADIKÖY-MODA</td>\n",
              "      <td>2</td>\n",
              "      <td>AKTARMA</td>\n",
              "      <td>59</td>\n",
              "      <td>59</td>\n",
              "    </tr>\n",
              "    <tr>\n",
              "      <th>1</th>\n",
              "      <td>2020-01-29 10:00:00</td>\n",
              "      <td>2</td>\n",
              "      <td>RAY</td>\n",
              "      <td>TELEFERİK MAÇKA - TAŞKIŞLA</td>\n",
              "      <td>2</td>\n",
              "      <td>NORMAL</td>\n",
              "      <td>13</td>\n",
              "      <td>15</td>\n",
              "    </tr>\n",
              "    <tr>\n",
              "      <th>2</th>\n",
              "      <td>2020-01-04 18:00:00</td>\n",
              "      <td>2</td>\n",
              "      <td>RAY</td>\n",
              "      <td>İETT NOSTALJİK TRAMVAY</td>\n",
              "      <td>2</td>\n",
              "      <td>AKTARMA</td>\n",
              "      <td>21</td>\n",
              "      <td>21</td>\n",
              "    </tr>\n",
              "    <tr>\n",
              "      <th>5</th>\n",
              "      <td>2020-01-28 08:00:00</td>\n",
              "      <td>2</td>\n",
              "      <td>RAY</td>\n",
              "      <td>AKSARAY-HAVALİMANI</td>\n",
              "      <td>2</td>\n",
              "      <td>NORMAL</td>\n",
              "      <td>26033</td>\n",
              "      <td>26725</td>\n",
              "    </tr>\n",
              "    <tr>\n",
              "      <th>7</th>\n",
              "      <td>2020-01-28 08:00:00</td>\n",
              "      <td>2</td>\n",
              "      <td>RAY</td>\n",
              "      <td>KADIKÖY-MODA</td>\n",
              "      <td>2</td>\n",
              "      <td>NORMAL</td>\n",
              "      <td>146</td>\n",
              "      <td>148</td>\n",
              "    </tr>\n",
              "    <tr>\n",
              "      <th>8</th>\n",
              "      <td>2020-01-29 08:00:00</td>\n",
              "      <td>2</td>\n",
              "      <td>RAY</td>\n",
              "      <td>EDİRNEKAPI-SULTANÇİFTLİĞİ</td>\n",
              "      <td>2</td>\n",
              "      <td>AKTARMA</td>\n",
              "      <td>1192</td>\n",
              "      <td>1195</td>\n",
              "    </tr>\n",
              "    <tr>\n",
              "      <th>9</th>\n",
              "      <td>2020-01-29 08:00:00</td>\n",
              "      <td>2</td>\n",
              "      <td>RAY</td>\n",
              "      <td>AKSARAY-HAVALİMANI</td>\n",
              "      <td>2</td>\n",
              "      <td>AKTARMA</td>\n",
              "      <td>3511</td>\n",
              "      <td>3529</td>\n",
              "    </tr>\n",
              "    <tr>\n",
              "      <th>10</th>\n",
              "      <td>2020-01-05 02:00:00</td>\n",
              "      <td>2</td>\n",
              "      <td>RAY</td>\n",
              "      <td>KADIKÖY-KARTAL METROSU</td>\n",
              "      <td>2</td>\n",
              "      <td>AKTARMA</td>\n",
              "      <td>66</td>\n",
              "      <td>66</td>\n",
              "    </tr>\n",
              "    <tr>\n",
              "      <th>11</th>\n",
              "      <td>2020-01-01 20:00:00</td>\n",
              "      <td>2</td>\n",
              "      <td>RAY</td>\n",
              "      <td>İETT TÜNEL</td>\n",
              "      <td>2</td>\n",
              "      <td>NORMAL</td>\n",
              "      <td>486</td>\n",
              "      <td>667</td>\n",
              "    </tr>\n",
              "    <tr>\n",
              "      <th>13</th>\n",
              "      <td>2020-01-01 14:00:00</td>\n",
              "      <td>2</td>\n",
              "      <td>RAY</td>\n",
              "      <td>KADIKÖY-KARTAL METROSU</td>\n",
              "      <td>2</td>\n",
              "      <td>AKTARMA</td>\n",
              "      <td>2624</td>\n",
              "      <td>2645</td>\n",
              "    </tr>\n",
              "  </tbody>\n",
              "</table>\n",
              "</div>"
            ],
            "text/plain": [
              "             DATE_TIME  ...  NUMBER_OF_PASSAGE\n",
              "0  2020-01-29 12:00:00  ...                 59\n",
              "1  2020-01-29 10:00:00  ...                 15\n",
              "2  2020-01-04 18:00:00  ...                 21\n",
              "5  2020-01-28 08:00:00  ...              26725\n",
              "7  2020-01-28 08:00:00  ...                148\n",
              "8  2020-01-29 08:00:00  ...               1195\n",
              "9  2020-01-29 08:00:00  ...               3529\n",
              "10 2020-01-05 02:00:00  ...                 66\n",
              "11 2020-01-01 20:00:00  ...                667\n",
              "13 2020-01-01 14:00:00  ...               2645\n",
              "\n",
              "[10 rows x 8 columns]"
            ]
          },
          "metadata": {
            "tags": []
          },
          "execution_count": 66
        }
      ]
    },
    {
      "cell_type": "markdown",
      "metadata": {
        "id": "kaztpUlAyhgf"
      },
      "source": [
        "The most crowded times and number of passengers for ray transport."
      ]
    },
    {
      "cell_type": "code",
      "metadata": {
        "colab": {
          "base_uri": "https://localhost:8080/",
          "height": 359
        },
        "id": "B7LkRs_qsPsD",
        "outputId": "7794f079-c8e8-48c5-d8a8-7d7030054bd0"
      },
      "source": [
        "df[ray].sort_values(\"NUMBER_OF_PASSENGER\", ascending = False).head(10)"
      ],
      "execution_count": null,
      "outputs": [
        {
          "output_type": "execute_result",
          "data": {
            "text/html": [
              "<div>\n",
              "<style scoped>\n",
              "    .dataframe tbody tr th:only-of-type {\n",
              "        vertical-align: middle;\n",
              "    }\n",
              "\n",
              "    .dataframe tbody tr th {\n",
              "        vertical-align: top;\n",
              "    }\n",
              "\n",
              "    .dataframe thead th {\n",
              "        text-align: right;\n",
              "    }\n",
              "</style>\n",
              "<table border=\"1\" class=\"dataframe\">\n",
              "  <thead>\n",
              "    <tr style=\"text-align: right;\">\n",
              "      <th></th>\n",
              "      <th>DATE_TIME</th>\n",
              "      <th>TRANSPORT_TYPE_ID</th>\n",
              "      <th>TRANSPORT_TYPE_DESC</th>\n",
              "      <th>LINE</th>\n",
              "      <th>TRANSFER_TYPE_ID</th>\n",
              "      <th>TRANSFER_TYPE</th>\n",
              "      <th>NUMBER_OF_PASSENGER</th>\n",
              "      <th>NUMBER_OF_PASSAGE</th>\n",
              "    </tr>\n",
              "  </thead>\n",
              "  <tbody>\n",
              "    <tr>\n",
              "      <th>21227</th>\n",
              "      <td>2020-01-10 18:00:00</td>\n",
              "      <td>2</td>\n",
              "      <td>RAY</td>\n",
              "      <td>TAKSİM-4.LEVENT</td>\n",
              "      <td>2</td>\n",
              "      <td>NORMAL</td>\n",
              "      <td>58862</td>\n",
              "      <td>61831</td>\n",
              "    </tr>\n",
              "    <tr>\n",
              "      <th>6354</th>\n",
              "      <td>2020-01-29 18:00:00</td>\n",
              "      <td>2</td>\n",
              "      <td>RAY</td>\n",
              "      <td>TAKSİM-4.LEVENT</td>\n",
              "      <td>2</td>\n",
              "      <td>NORMAL</td>\n",
              "      <td>57145</td>\n",
              "      <td>59882</td>\n",
              "    </tr>\n",
              "    <tr>\n",
              "      <th>2594</th>\n",
              "      <td>2020-01-15 18:00:00</td>\n",
              "      <td>2</td>\n",
              "      <td>RAY</td>\n",
              "      <td>TAKSİM-4.LEVENT</td>\n",
              "      <td>2</td>\n",
              "      <td>NORMAL</td>\n",
              "      <td>57045</td>\n",
              "      <td>59193</td>\n",
              "    </tr>\n",
              "    <tr>\n",
              "      <th>9834</th>\n",
              "      <td>2020-01-22 18:00:00</td>\n",
              "      <td>2</td>\n",
              "      <td>RAY</td>\n",
              "      <td>TAKSİM-4.LEVENT</td>\n",
              "      <td>2</td>\n",
              "      <td>NORMAL</td>\n",
              "      <td>56876</td>\n",
              "      <td>59675</td>\n",
              "    </tr>\n",
              "    <tr>\n",
              "      <th>13320</th>\n",
              "      <td>2020-01-09 18:00:00</td>\n",
              "      <td>2</td>\n",
              "      <td>RAY</td>\n",
              "      <td>TAKSİM-4.LEVENT</td>\n",
              "      <td>2</td>\n",
              "      <td>NORMAL</td>\n",
              "      <td>56638</td>\n",
              "      <td>59079</td>\n",
              "    </tr>\n",
              "    <tr>\n",
              "      <th>9618</th>\n",
              "      <td>2020-01-14 18:00:00</td>\n",
              "      <td>2</td>\n",
              "      <td>RAY</td>\n",
              "      <td>TAKSİM-4.LEVENT</td>\n",
              "      <td>2</td>\n",
              "      <td>NORMAL</td>\n",
              "      <td>56573</td>\n",
              "      <td>58704</td>\n",
              "    </tr>\n",
              "    <tr>\n",
              "      <th>10253</th>\n",
              "      <td>2020-01-03 18:00:00</td>\n",
              "      <td>2</td>\n",
              "      <td>RAY</td>\n",
              "      <td>TAKSİM-4.LEVENT</td>\n",
              "      <td>2</td>\n",
              "      <td>NORMAL</td>\n",
              "      <td>56285</td>\n",
              "      <td>59314</td>\n",
              "    </tr>\n",
              "    <tr>\n",
              "      <th>3088</th>\n",
              "      <td>2020-01-17 18:00:00</td>\n",
              "      <td>2</td>\n",
              "      <td>RAY</td>\n",
              "      <td>TAKSİM-4.LEVENT</td>\n",
              "      <td>2</td>\n",
              "      <td>NORMAL</td>\n",
              "      <td>56218</td>\n",
              "      <td>58813</td>\n",
              "    </tr>\n",
              "    <tr>\n",
              "      <th>16737</th>\n",
              "      <td>2020-01-13 18:00:00</td>\n",
              "      <td>2</td>\n",
              "      <td>RAY</td>\n",
              "      <td>TAKSİM-4.LEVENT</td>\n",
              "      <td>2</td>\n",
              "      <td>NORMAL</td>\n",
              "      <td>55983</td>\n",
              "      <td>58221</td>\n",
              "    </tr>\n",
              "    <tr>\n",
              "      <th>18800</th>\n",
              "      <td>2020-01-23 18:00:00</td>\n",
              "      <td>2</td>\n",
              "      <td>RAY</td>\n",
              "      <td>TAKSİM-4.LEVENT</td>\n",
              "      <td>2</td>\n",
              "      <td>NORMAL</td>\n",
              "      <td>55745</td>\n",
              "      <td>58388</td>\n",
              "    </tr>\n",
              "  </tbody>\n",
              "</table>\n",
              "</div>"
            ],
            "text/plain": [
              "                DATE_TIME  ...  NUMBER_OF_PASSAGE\n",
              "21227 2020-01-10 18:00:00  ...              61831\n",
              "6354  2020-01-29 18:00:00  ...              59882\n",
              "2594  2020-01-15 18:00:00  ...              59193\n",
              "9834  2020-01-22 18:00:00  ...              59675\n",
              "13320 2020-01-09 18:00:00  ...              59079\n",
              "9618  2020-01-14 18:00:00  ...              58704\n",
              "10253 2020-01-03 18:00:00  ...              59314\n",
              "3088  2020-01-17 18:00:00  ...              58813\n",
              "16737 2020-01-13 18:00:00  ...              58221\n",
              "18800 2020-01-23 18:00:00  ...              58388\n",
              "\n",
              "[10 rows x 8 columns]"
            ]
          },
          "metadata": {
            "tags": []
          },
          "execution_count": 67
        }
      ]
    },
    {
      "cell_type": "markdown",
      "metadata": {
        "id": "txf9L-Nu0r7d"
      },
      "source": [
        "Same for highway transportation."
      ]
    },
    {
      "cell_type": "code",
      "metadata": {
        "id": "CXpUEtIfbcji"
      },
      "source": [
        ""
      ],
      "execution_count": null,
      "outputs": []
    },
    {
      "cell_type": "code",
      "metadata": {
        "colab": {
          "base_uri": "https://localhost:8080/",
          "height": 359
        },
        "id": "o435Ym670eLk",
        "outputId": "9e2ceca6-d846-4f90-ff72-4db13a0393c4"
      },
      "source": [
        "KARAYOLU = df[\"TRANSPORT_TYPE_DESC\"].isin([\"KARAYOLU\"])\n",
        "df[KARAYOLU].sort_values(\"NUMBER_OF_PASSENGER\", ascending = False).head(10)"
      ],
      "execution_count": 16,
      "outputs": [
        {
          "output_type": "execute_result",
          "data": {
            "text/html": [
              "<div>\n",
              "<style scoped>\n",
              "    .dataframe tbody tr th:only-of-type {\n",
              "        vertical-align: middle;\n",
              "    }\n",
              "\n",
              "    .dataframe tbody tr th {\n",
              "        vertical-align: top;\n",
              "    }\n",
              "\n",
              "    .dataframe thead th {\n",
              "        text-align: right;\n",
              "    }\n",
              "</style>\n",
              "<table border=\"1\" class=\"dataframe\">\n",
              "  <thead>\n",
              "    <tr style=\"text-align: right;\">\n",
              "      <th></th>\n",
              "      <th>DATE_TIME</th>\n",
              "      <th>TRANSPORT_TYPE_ID</th>\n",
              "      <th>TRANSPORT_TYPE_DESC</th>\n",
              "      <th>LINE</th>\n",
              "      <th>TRANSFER_TYPE_ID</th>\n",
              "      <th>TRANSFER_TYPE</th>\n",
              "      <th>NUMBER_OF_PASSENGER</th>\n",
              "      <th>NUMBER_OF_PASSAGE</th>\n",
              "    </tr>\n",
              "  </thead>\n",
              "  <tbody>\n",
              "    <tr>\n",
              "      <th>13920</th>\n",
              "      <td>2020-01-02 08:00:00</td>\n",
              "      <td>1</td>\n",
              "      <td>KARAYOLU</td>\n",
              "      <td>ÖHO</td>\n",
              "      <td>2</td>\n",
              "      <td>NORMAL</td>\n",
              "      <td>191760</td>\n",
              "      <td>205449</td>\n",
              "    </tr>\n",
              "    <tr>\n",
              "      <th>8033</th>\n",
              "      <td>2020-01-10 08:00:00</td>\n",
              "      <td>1</td>\n",
              "      <td>KARAYOLU</td>\n",
              "      <td>ÖHO</td>\n",
              "      <td>2</td>\n",
              "      <td>NORMAL</td>\n",
              "      <td>188031</td>\n",
              "      <td>201595</td>\n",
              "    </tr>\n",
              "    <tr>\n",
              "      <th>23148</th>\n",
              "      <td>2020-01-03 08:00:00</td>\n",
              "      <td>1</td>\n",
              "      <td>KARAYOLU</td>\n",
              "      <td>ÖHO</td>\n",
              "      <td>2</td>\n",
              "      <td>NORMAL</td>\n",
              "      <td>187703</td>\n",
              "      <td>201104</td>\n",
              "    </tr>\n",
              "    <tr>\n",
              "      <th>21436</th>\n",
              "      <td>2020-01-02 07:00:00</td>\n",
              "      <td>1</td>\n",
              "      <td>KARAYOLU</td>\n",
              "      <td>ÖHO</td>\n",
              "      <td>2</td>\n",
              "      <td>NORMAL</td>\n",
              "      <td>187463</td>\n",
              "      <td>201114</td>\n",
              "    </tr>\n",
              "    <tr>\n",
              "      <th>6262</th>\n",
              "      <td>2020-01-09 08:00:00</td>\n",
              "      <td>1</td>\n",
              "      <td>KARAYOLU</td>\n",
              "      <td>ÖHO</td>\n",
              "      <td>2</td>\n",
              "      <td>NORMAL</td>\n",
              "      <td>187426</td>\n",
              "      <td>200290</td>\n",
              "    </tr>\n",
              "    <tr>\n",
              "      <th>21576</th>\n",
              "      <td>2020-01-13 08:00:00</td>\n",
              "      <td>1</td>\n",
              "      <td>KARAYOLU</td>\n",
              "      <td>ÖHO</td>\n",
              "      <td>2</td>\n",
              "      <td>NORMAL</td>\n",
              "      <td>185397</td>\n",
              "      <td>199022</td>\n",
              "    </tr>\n",
              "    <tr>\n",
              "      <th>17122</th>\n",
              "      <td>2020-01-13 07:00:00</td>\n",
              "      <td>1</td>\n",
              "      <td>KARAYOLU</td>\n",
              "      <td>ÖHO</td>\n",
              "      <td>2</td>\n",
              "      <td>NORMAL</td>\n",
              "      <td>183998</td>\n",
              "      <td>197415</td>\n",
              "    </tr>\n",
              "    <tr>\n",
              "      <th>3292</th>\n",
              "      <td>2020-01-09 07:00:00</td>\n",
              "      <td>1</td>\n",
              "      <td>KARAYOLU</td>\n",
              "      <td>ÖHO</td>\n",
              "      <td>2</td>\n",
              "      <td>NORMAL</td>\n",
              "      <td>183637</td>\n",
              "      <td>196874</td>\n",
              "    </tr>\n",
              "    <tr>\n",
              "      <th>944</th>\n",
              "      <td>2020-01-14 08:00:00</td>\n",
              "      <td>1</td>\n",
              "      <td>KARAYOLU</td>\n",
              "      <td>ÖHO</td>\n",
              "      <td>2</td>\n",
              "      <td>NORMAL</td>\n",
              "      <td>183582</td>\n",
              "      <td>197013</td>\n",
              "    </tr>\n",
              "    <tr>\n",
              "      <th>1105</th>\n",
              "      <td>2020-01-03 07:00:00</td>\n",
              "      <td>1</td>\n",
              "      <td>KARAYOLU</td>\n",
              "      <td>ÖHO</td>\n",
              "      <td>2</td>\n",
              "      <td>NORMAL</td>\n",
              "      <td>183057</td>\n",
              "      <td>196593</td>\n",
              "    </tr>\n",
              "  </tbody>\n",
              "</table>\n",
              "</div>"
            ],
            "text/plain": [
              "                DATE_TIME  ...  NUMBER_OF_PASSAGE\n",
              "13920 2020-01-02 08:00:00  ...             205449\n",
              "8033  2020-01-10 08:00:00  ...             201595\n",
              "23148 2020-01-03 08:00:00  ...             201104\n",
              "21436 2020-01-02 07:00:00  ...             201114\n",
              "6262  2020-01-09 08:00:00  ...             200290\n",
              "21576 2020-01-13 08:00:00  ...             199022\n",
              "17122 2020-01-13 07:00:00  ...             197415\n",
              "3292  2020-01-09 07:00:00  ...             196874\n",
              "944   2020-01-14 08:00:00  ...             197013\n",
              "1105  2020-01-03 07:00:00  ...             196593\n",
              "\n",
              "[10 rows x 8 columns]"
            ]
          },
          "metadata": {
            "tags": []
          },
          "execution_count": 16
        }
      ]
    },
    {
      "cell_type": "markdown",
      "metadata": {
        "id": "QajhctMt0uTy"
      },
      "source": [
        "Same for sea transportation."
      ]
    },
    {
      "cell_type": "code",
      "metadata": {
        "colab": {
          "base_uri": "https://localhost:8080/",
          "height": 359
        },
        "id": "Jd1VCWDW0mGm",
        "outputId": "3cf17166-7405-4084-f9e5-756045665d35"
      },
      "source": [
        "DENİZ = df[\"TRANSPORT_TYPE_DESC\"].isin([\"DENİZ\"])\n",
        "df[DENİZ].sort_values(\"NUMBER_OF_PASSENGER\", ascending = False).head(10)"
      ],
      "execution_count": 17,
      "outputs": [
        {
          "output_type": "execute_result",
          "data": {
            "text/html": [
              "<div>\n",
              "<style scoped>\n",
              "    .dataframe tbody tr th:only-of-type {\n",
              "        vertical-align: middle;\n",
              "    }\n",
              "\n",
              "    .dataframe tbody tr th {\n",
              "        vertical-align: top;\n",
              "    }\n",
              "\n",
              "    .dataframe thead th {\n",
              "        text-align: right;\n",
              "    }\n",
              "</style>\n",
              "<table border=\"1\" class=\"dataframe\">\n",
              "  <thead>\n",
              "    <tr style=\"text-align: right;\">\n",
              "      <th></th>\n",
              "      <th>DATE_TIME</th>\n",
              "      <th>TRANSPORT_TYPE_ID</th>\n",
              "      <th>TRANSPORT_TYPE_DESC</th>\n",
              "      <th>LINE</th>\n",
              "      <th>TRANSFER_TYPE_ID</th>\n",
              "      <th>TRANSFER_TYPE</th>\n",
              "      <th>NUMBER_OF_PASSENGER</th>\n",
              "      <th>NUMBER_OF_PASSAGE</th>\n",
              "    </tr>\n",
              "  </thead>\n",
              "  <tbody>\n",
              "    <tr>\n",
              "      <th>19523</th>\n",
              "      <td>2020-01-24 18:00:00</td>\n",
              "      <td>3</td>\n",
              "      <td>DENİZ</td>\n",
              "      <td>MOTOR TEKNE</td>\n",
              "      <td>2</td>\n",
              "      <td>NORMAL</td>\n",
              "      <td>10650</td>\n",
              "      <td>11483</td>\n",
              "    </tr>\n",
              "    <tr>\n",
              "      <th>11620</th>\n",
              "      <td>2020-01-31 18:00:00</td>\n",
              "      <td>3</td>\n",
              "      <td>DENİZ</td>\n",
              "      <td>MOTOR TEKNE</td>\n",
              "      <td>2</td>\n",
              "      <td>NORMAL</td>\n",
              "      <td>10556</td>\n",
              "      <td>11319</td>\n",
              "    </tr>\n",
              "    <tr>\n",
              "      <th>20</th>\n",
              "      <td>2020-01-22 18:00:00</td>\n",
              "      <td>3</td>\n",
              "      <td>DENİZ</td>\n",
              "      <td>MOTOR TEKNE</td>\n",
              "      <td>2</td>\n",
              "      <td>NORMAL</td>\n",
              "      <td>10488</td>\n",
              "      <td>11422</td>\n",
              "    </tr>\n",
              "    <tr>\n",
              "      <th>18713</th>\n",
              "      <td>2020-01-10 18:00:00</td>\n",
              "      <td>3</td>\n",
              "      <td>DENİZ</td>\n",
              "      <td>MOTOR TEKNE</td>\n",
              "      <td>2</td>\n",
              "      <td>NORMAL</td>\n",
              "      <td>10464</td>\n",
              "      <td>11062</td>\n",
              "    </tr>\n",
              "    <tr>\n",
              "      <th>15647</th>\n",
              "      <td>2020-01-03 18:00:00</td>\n",
              "      <td>3</td>\n",
              "      <td>DENİZ</td>\n",
              "      <td>MOTOR TEKNE</td>\n",
              "      <td>2</td>\n",
              "      <td>NORMAL</td>\n",
              "      <td>10128</td>\n",
              "      <td>10696</td>\n",
              "    </tr>\n",
              "    <tr>\n",
              "      <th>6850</th>\n",
              "      <td>2020-01-30 18:00:00</td>\n",
              "      <td>3</td>\n",
              "      <td>DENİZ</td>\n",
              "      <td>MOTOR TEKNE</td>\n",
              "      <td>2</td>\n",
              "      <td>NORMAL</td>\n",
              "      <td>10009</td>\n",
              "      <td>10716</td>\n",
              "    </tr>\n",
              "    <tr>\n",
              "      <th>12313</th>\n",
              "      <td>2020-01-14 18:00:00</td>\n",
              "      <td>3</td>\n",
              "      <td>DENİZ</td>\n",
              "      <td>MOTOR TEKNE</td>\n",
              "      <td>2</td>\n",
              "      <td>NORMAL</td>\n",
              "      <td>9959</td>\n",
              "      <td>10455</td>\n",
              "    </tr>\n",
              "    <tr>\n",
              "      <th>74</th>\n",
              "      <td>2020-01-27 18:00:00</td>\n",
              "      <td>3</td>\n",
              "      <td>DENİZ</td>\n",
              "      <td>MOTOR TEKNE</td>\n",
              "      <td>2</td>\n",
              "      <td>NORMAL</td>\n",
              "      <td>9925</td>\n",
              "      <td>10709</td>\n",
              "    </tr>\n",
              "    <tr>\n",
              "      <th>11535</th>\n",
              "      <td>2020-01-31 17:00:00</td>\n",
              "      <td>3</td>\n",
              "      <td>DENİZ</td>\n",
              "      <td>MOTOR TEKNE</td>\n",
              "      <td>2</td>\n",
              "      <td>NORMAL</td>\n",
              "      <td>9890</td>\n",
              "      <td>10853</td>\n",
              "    </tr>\n",
              "    <tr>\n",
              "      <th>267</th>\n",
              "      <td>2020-01-27 17:00:00</td>\n",
              "      <td>3</td>\n",
              "      <td>DENİZ</td>\n",
              "      <td>MOTOR TEKNE</td>\n",
              "      <td>2</td>\n",
              "      <td>NORMAL</td>\n",
              "      <td>9888</td>\n",
              "      <td>10819</td>\n",
              "    </tr>\n",
              "  </tbody>\n",
              "</table>\n",
              "</div>"
            ],
            "text/plain": [
              "                DATE_TIME  ...  NUMBER_OF_PASSAGE\n",
              "19523 2020-01-24 18:00:00  ...              11483\n",
              "11620 2020-01-31 18:00:00  ...              11319\n",
              "20    2020-01-22 18:00:00  ...              11422\n",
              "18713 2020-01-10 18:00:00  ...              11062\n",
              "15647 2020-01-03 18:00:00  ...              10696\n",
              "6850  2020-01-30 18:00:00  ...              10716\n",
              "12313 2020-01-14 18:00:00  ...              10455\n",
              "74    2020-01-27 18:00:00  ...              10709\n",
              "11535 2020-01-31 17:00:00  ...              10853\n",
              "267   2020-01-27 17:00:00  ...              10819\n",
              "\n",
              "[10 rows x 8 columns]"
            ]
          },
          "metadata": {
            "tags": []
          },
          "execution_count": 17
        }
      ]
    },
    {
      "cell_type": "markdown",
      "metadata": {
        "id": "lzz4qvBxytaj"
      },
      "source": [
        "Number of passengers reported by transport type."
      ]
    },
    {
      "cell_type": "code",
      "metadata": {
        "colab": {
          "base_uri": "https://localhost:8080/"
        },
        "id": "YHLRnKQrsfG9",
        "outputId": "fb0b81b2-ff51-4d93-a356-99fe4521e789"
      },
      "source": [
        "df.groupby(\"TRANSPORT_TYPE_DESC\")[\"NUMBER_OF_PASSENGER\"].sum()"
      ],
      "execution_count": null,
      "outputs": [
        {
          "output_type": "execute_result",
          "data": {
            "text/plain": [
              "TRANSPORT_TYPE_DESC\n",
              "DENİZ         5369252\n",
              "KARAYOLU    109157880\n",
              "RAY          67876243\n",
              "Name: NUMBER_OF_PASSENGER, dtype: int64"
            ]
          },
          "metadata": {
            "tags": []
          },
          "execution_count": 73
        }
      ]
    },
    {
      "cell_type": "markdown",
      "metadata": {
        "id": "5HC2_uMDy1Im"
      },
      "source": [
        "Mean of number of passengers reported by transport type."
      ]
    },
    {
      "cell_type": "code",
      "metadata": {
        "colab": {
          "base_uri": "https://localhost:8080/"
        },
        "id": "VaOxTeD6s8Zg",
        "outputId": "84367f56-d84c-474c-9527-82b0a5932333"
      },
      "source": [
        "df.groupby(\"TRANSPORT_TYPE_DESC\")[\"NUMBER_OF_PASSENGER\"].mean()"
      ],
      "execution_count": null,
      "outputs": [
        {
          "output_type": "execute_result",
          "data": {
            "text/plain": [
              "TRANSPORT_TYPE_DESC\n",
              "DENİZ        1981.273801\n",
              "KARAYOLU    30037.941662\n",
              "RAY          4035.928351\n",
              "Name: NUMBER_OF_PASSENGER, dtype: float64"
            ]
          },
          "metadata": {
            "tags": []
          },
          "execution_count": 74
        }
      ]
    },
    {
      "cell_type": "markdown",
      "metadata": {
        "id": "mnjxgptDzCvE"
      },
      "source": [
        "Sum of number of passengers by LINE column values."
      ]
    },
    {
      "cell_type": "code",
      "metadata": {
        "colab": {
          "base_uri": "https://localhost:8080/"
        },
        "id": "6IvyMqogtFOw",
        "outputId": "e9c87368-de08-4b17-d00a-3887de1fbd40"
      },
      "source": [
        "df.groupby(\"LINE\")[\"NUMBER_OF_PASSENGER\"].sum()"
      ],
      "execution_count": null,
      "outputs": [
        {
          "output_type": "execute_result",
          "data": {
            "text/plain": [
              "LINE\n",
              "AKSARAY-HAVALİMANI            11016547\n",
              "EDİRNEKAPI-SULTANÇİFTLİĞİ      4848987\n",
              "KABATAŞ-BAĞCILAR              10349862\n",
              "KABATAŞ-MAHMUTBEY                   99\n",
              "KADIKÖY-KARTAL METROSU         7252239\n",
              "KADIKÖY-MODA                     98919\n",
              "KİRAZLI-OLİMPİYATKÖY           1372328\n",
              "LEVENT - RUMELİ HİSARÜSTÜ       495505\n",
              "MARMARAY                      11952856\n",
              "METROBÜS                      23804501\n",
              "MOTOR TEKNE                    3043512\n",
              "TAKSİM-4.LEVENT               13618391\n",
              "TAKSİM-KABATAŞ FUNİKULERİ       395638\n",
              "TELEFERİK EYÜP PİYERLOTİ         58720\n",
              "TELEFERİK MAÇKA - TAŞKIŞLA       16546\n",
              "ÖHO                           62578670\n",
              "ÜSKÜDAR ÇEKMEKÖY METROSU       6019867\n",
              "İETT                          22774709\n",
              "İETT NOSTALJİK TRAMVAY           23988\n",
              "İETT TÜNEL                      355751\n",
              "ŞEHİR HATLARI                  2325740\n",
              "Name: NUMBER_OF_PASSENGER, dtype: int64"
            ]
          },
          "metadata": {
            "tags": []
          },
          "execution_count": 95
        }
      ]
    },
    {
      "cell_type": "code",
      "metadata": {
        "colab": {
          "base_uri": "https://localhost:8080/"
        },
        "id": "M_88gBc4tlhb",
        "outputId": "0bc12e21-a2e7-4cd5-d325-a970322e01d3"
      },
      "source": [
        "toplam = df.groupby(\"LINE\")[\"NUMBER_OF_PASSENGER\"].sum()\n",
        "toplam  = toplam.head(10)\n",
        "toplam.sort_values(ascending=False)"
      ],
      "execution_count": null,
      "outputs": [
        {
          "output_type": "execute_result",
          "data": {
            "text/plain": [
              "LINE\n",
              "METROBÜS                     23804501\n",
              "MARMARAY                     11952856\n",
              "AKSARAY-HAVALİMANI           11016547\n",
              "KABATAŞ-BAĞCILAR             10349862\n",
              "KADIKÖY-KARTAL METROSU        7252239\n",
              "EDİRNEKAPI-SULTANÇİFTLİĞİ     4848987\n",
              "KİRAZLI-OLİMPİYATKÖY          1372328\n",
              "LEVENT - RUMELİ HİSARÜSTÜ      495505\n",
              "KADIKÖY-MODA                    98919\n",
              "KABATAŞ-MAHMUTBEY                  99\n",
              "Name: NUMBER_OF_PASSENGER, dtype: int64"
            ]
          },
          "metadata": {
            "tags": []
          },
          "execution_count": 96
        }
      ]
    },
    {
      "cell_type": "code",
      "metadata": {
        "colab": {
          "base_uri": "https://localhost:8080/"
        },
        "id": "BYrwd6yCulBg",
        "outputId": "9a54df84-51a7-4f1f-ba67-3106b196cf78"
      },
      "source": [
        "df.groupby(\"TRANSPORT_TYPE_DESC\")[\"NUMBER_OF_PASSENGER\"].sum()"
      ],
      "execution_count": null,
      "outputs": [
        {
          "output_type": "execute_result",
          "data": {
            "text/plain": [
              "TRANSPORT_TYPE_DESC\n",
              "DENİZ         5369252\n",
              "KARAYOLU    109157880\n",
              "RAY          67876243\n",
              "Name: NUMBER_OF_PASSENGER, dtype: int64"
            ]
          },
          "metadata": {
            "tags": []
          },
          "execution_count": 97
        }
      ]
    },
    {
      "cell_type": "markdown",
      "metadata": {
        "id": "43DjA9QHzJDe"
      },
      "source": [
        "Pie chart of transport types usage."
      ]
    },
    {
      "cell_type": "code",
      "metadata": {
        "colab": {
          "base_uri": "https://localhost:8080/",
          "height": 374
        },
        "id": "KMQJ32z2uszD",
        "outputId": "dd3c14d4-159a-4846-f5d3-44718aba4403"
      },
      "source": [
        "df.groupby(\"TRANSPORT_TYPE_DESC\")[\"NUMBER_OF_PASSENGER\"].sum().plot(kind='pie', figsize=(6,6))"
      ],
      "execution_count": null,
      "outputs": [
        {
          "output_type": "execute_result",
          "data": {
            "text/plain": [
              "<matplotlib.axes._subplots.AxesSubplot at 0x7fcfe4db9e90>"
            ]
          },
          "metadata": {
            "tags": []
          },
          "execution_count": 98
        },
        {
          "output_type": "display_data",
          "data": {
            "image/png": "[encoded data removed]",
            "text/plain": [
              "<Figure size 432x432 with 1 Axes>"
            ]
          },
          "metadata": {
            "tags": []
          }
        }
      ]
    },
    {
      "cell_type": "markdown",
      "metadata": {
        "id": "EvQQeLh8zP5P"
      },
      "source": [
        "Weekly usage of different transport type.\n",
        "\n",
        "1.   DENİZ = SEA\n",
        "2.   KARAYOLU = HIGHWAY\n",
        "3.   RAY = RAIL"
      ]
    },
    {
      "cell_type": "code",
      "metadata": {
        "colab": {
          "base_uri": "https://localhost:8080/"
        },
        "id": "0P3kKEX9wmrZ",
        "outputId": "f755eb3b-04a1-4239-939b-8ea338eb3e3e"
      },
      "source": [
        "ck = df.groupby(['TRANSPORT_TYPE_DESC', pd.Grouper(key='DATE_TIME', freq='W-MON')])['NUMBER_OF_PASSENGER'].sum().reset_index().sort_values('DATE_TIME')\n",
        "print(ck)"
      ],
      "execution_count": null,
      "outputs": [
        {
          "output_type": "stream",
          "text": [
            "   TRANSPORT_TYPE_DESC  DATE_TIME  NUMBER_OF_PASSENGER\n",
            "0                DENİZ 2020-01-06               903134\n",
            "5             KARAYOLU 2020-01-06             19396541\n",
            "10                 RAY 2020-01-06             12027867\n",
            "1                DENİZ 2020-01-13              1110753\n",
            "6             KARAYOLU 2020-01-13             25615601\n",
            "11                 RAY 2020-01-13             15613683\n",
            "2                DENİZ 2020-01-20              1222221\n",
            "7             KARAYOLU 2020-01-20             25597820\n",
            "12                 RAY 2020-01-20             15821225\n",
            "3                DENİZ 2020-01-27              1340026\n",
            "8             KARAYOLU 2020-01-27             23915703\n",
            "13                 RAY 2020-01-27             15252381\n",
            "4                DENİZ 2020-02-03               793118\n",
            "9             KARAYOLU 2020-02-03             14632215\n",
            "14                 RAY 2020-02-03              9161087\n"
          ],
          "name": "stdout"
        }
      ]
    }
  ]
}